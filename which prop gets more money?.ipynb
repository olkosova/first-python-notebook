{
 "cells": [
  {
   "cell_type": "code",
   "execution_count": 1,
   "metadata": {
    "collapsed": true
   },
   "outputs": [],
   "source": [
    "import pandas as pd"
   ]
  },
  {
   "cell_type": "code",
   "execution_count": 2,
   "metadata": {
    "collapsed": true
   },
   "outputs": [],
   "source": [
    "props = pd.read_csv(\"http://www.firstpythonnotebook.org/_static/committees.csv\")"
   ]
  },
  {
   "cell_type": "code",
   "execution_count": 24,
   "metadata": {},
   "outputs": [
    {
     "data": {
      "text/html": [
       "<div>\n",
       "<style>\n",
       "    .dataframe thead tr:only-child th {\n",
       "        text-align: right;\n",
       "    }\n",
       "\n",
       "    .dataframe thead th {\n",
       "        text-align: left;\n",
       "    }\n",
       "\n",
       "    .dataframe tbody tr th {\n",
       "        vertical-align: top;\n",
       "    }\n",
       "</style>\n",
       "<table border=\"1\" class=\"dataframe\">\n",
       "  <thead>\n",
       "    <tr style=\"text-align: right;\">\n",
       "      <th></th>\n",
       "      <th>ocd_prop_id</th>\n",
       "      <th>calaccess_prop_id</th>\n",
       "      <th>ccdc_prop_id</th>\n",
       "      <th>prop_name</th>\n",
       "      <th>ccdc_committee_id</th>\n",
       "      <th>calaccess_committee_id</th>\n",
       "      <th>committee_name</th>\n",
       "      <th>committee_position</th>\n",
       "    </tr>\n",
       "  </thead>\n",
       "  <tbody>\n",
       "    <tr>\n",
       "      <th>0</th>\n",
       "      <td>ocd-contest/b51dc64d-3562-4913-a190-69f5088c22a6</td>\n",
       "      <td>1376258</td>\n",
       "      <td>70</td>\n",
       "      <td>PROPOSITION 051 - SCHOOL BONDS. FUNDING FOR K-...</td>\n",
       "      <td>382</td>\n",
       "      <td>1374469</td>\n",
       "      <td>YES ON PROPOSITION 51 - CALIFORNIANS FOR QUALI...</td>\n",
       "      <td>SUPPORT</td>\n",
       "    </tr>\n",
       "    <tr>\n",
       "      <th>1</th>\n",
       "      <td>ocd-contest/b51dc64d-3562-4913-a190-69f5088c22a6</td>\n",
       "      <td>1376258</td>\n",
       "      <td>70</td>\n",
       "      <td>PROPOSITION 051 - SCHOOL BONDS. FUNDING FOR K-...</td>\n",
       "      <td>383</td>\n",
       "      <td>1220380</td>\n",
       "      <td>COMMUNITY COLLEGE FACILITY COALITION ISSUES CO...</td>\n",
       "      <td>SUPPORT</td>\n",
       "    </tr>\n",
       "    <tr>\n",
       "      <th>2</th>\n",
       "      <td>ocd-contest/b51dc64d-3562-4913-a190-69f5088c22a6</td>\n",
       "      <td>1376258</td>\n",
       "      <td>70</td>\n",
       "      <td>PROPOSITION 051 - SCHOOL BONDS. FUNDING FOR K-...</td>\n",
       "      <td>384</td>\n",
       "      <td>1282321</td>\n",
       "      <td>TORLAKSON'S INVEST IN CALIFORNIA A BALLOT MEAS...</td>\n",
       "      <td>SUPPORT</td>\n",
       "    </tr>\n",
       "    <tr>\n",
       "      <th>3</th>\n",
       "      <td>ocd-contest/b51dc64d-3562-4913-a190-69f5088c22a6</td>\n",
       "      <td>1376258</td>\n",
       "      <td>70</td>\n",
       "      <td>PROPOSITION 051 - SCHOOL BONDS. FUNDING FOR K-...</td>\n",
       "      <td>385</td>\n",
       "      <td>1382843</td>\n",
       "      <td>CALIFORNIA TAXPAYERS AND EDUCATORS OPPOSED TO ...</td>\n",
       "      <td>OPPOSE</td>\n",
       "    </tr>\n",
       "    <tr>\n",
       "      <th>4</th>\n",
       "      <td>ocd-contest/85990193-9d6f-4600-b8e7-bf1317841d82</td>\n",
       "      <td>1362198</td>\n",
       "      <td>71</td>\n",
       "      <td>PROPOSITION 052 - STATE FEES ON HOSPITALS. FED...</td>\n",
       "      <td>386</td>\n",
       "      <td>1362973</td>\n",
       "      <td>YES ON PROPOSITION 52 - A COALITION OF CALIFOR...</td>\n",
       "      <td>SUPPORT</td>\n",
       "    </tr>\n",
       "  </tbody>\n",
       "</table>\n",
       "</div>"
      ],
      "text/plain": [
       "                                        ocd_prop_id  calaccess_prop_id  \\\n",
       "0  ocd-contest/b51dc64d-3562-4913-a190-69f5088c22a6            1376258   \n",
       "1  ocd-contest/b51dc64d-3562-4913-a190-69f5088c22a6            1376258   \n",
       "2  ocd-contest/b51dc64d-3562-4913-a190-69f5088c22a6            1376258   \n",
       "3  ocd-contest/b51dc64d-3562-4913-a190-69f5088c22a6            1376258   \n",
       "4  ocd-contest/85990193-9d6f-4600-b8e7-bf1317841d82            1362198   \n",
       "\n",
       "   ccdc_prop_id                                          prop_name  \\\n",
       "0            70  PROPOSITION 051 - SCHOOL BONDS. FUNDING FOR K-...   \n",
       "1            70  PROPOSITION 051 - SCHOOL BONDS. FUNDING FOR K-...   \n",
       "2            70  PROPOSITION 051 - SCHOOL BONDS. FUNDING FOR K-...   \n",
       "3            70  PROPOSITION 051 - SCHOOL BONDS. FUNDING FOR K-...   \n",
       "4            71  PROPOSITION 052 - STATE FEES ON HOSPITALS. FED...   \n",
       "\n",
       "   ccdc_committee_id  calaccess_committee_id  \\\n",
       "0                382                 1374469   \n",
       "1                383                 1220380   \n",
       "2                384                 1282321   \n",
       "3                385                 1382843   \n",
       "4                386                 1362973   \n",
       "\n",
       "                                      committee_name committee_position  \n",
       "0  YES ON PROPOSITION 51 - CALIFORNIANS FOR QUALI...            SUPPORT  \n",
       "1  COMMUNITY COLLEGE FACILITY COALITION ISSUES CO...            SUPPORT  \n",
       "2  TORLAKSON'S INVEST IN CALIFORNIA A BALLOT MEAS...            SUPPORT  \n",
       "3  CALIFORNIA TAXPAYERS AND EDUCATORS OPPOSED TO ...             OPPOSE  \n",
       "4  YES ON PROPOSITION 52 - A COALITION OF CALIFOR...            SUPPORT  "
      ]
     },
     "execution_count": 24,
     "metadata": {},
     "output_type": "execute_result"
    }
   ],
   "source": [
    "props.head()"
   ]
  },
  {
   "cell_type": "code",
   "execution_count": 5,
   "metadata": {
    "collapsed": true
   },
   "outputs": [],
   "source": [
    "contribs = pd.read_csv(\"http://www.firstpythonnotebook.org/_static/contributions.csv\")"
   ]
  },
  {
   "cell_type": "code",
   "execution_count": 8,
   "metadata": {},
   "outputs": [
    {
     "data": {
      "text/html": [
       "<div>\n",
       "<style>\n",
       "    .dataframe thead tr:only-child th {\n",
       "        text-align: right;\n",
       "    }\n",
       "\n",
       "    .dataframe thead th {\n",
       "        text-align: left;\n",
       "    }\n",
       "\n",
       "    .dataframe tbody tr th {\n",
       "        vertical-align: top;\n",
       "    }\n",
       "</style>\n",
       "<table border=\"1\" class=\"dataframe\">\n",
       "  <thead>\n",
       "    <tr style=\"text-align: right;\">\n",
       "      <th></th>\n",
       "      <th>index</th>\n",
       "      <th>prop_name</th>\n",
       "    </tr>\n",
       "  </thead>\n",
       "  <tbody>\n",
       "    <tr>\n",
       "      <th>0</th>\n",
       "      <td>PROPOSITION 057 - CRIMINAL SENTENCES. JUVENILE...</td>\n",
       "      <td>13</td>\n",
       "    </tr>\n",
       "    <tr>\n",
       "      <th>1</th>\n",
       "      <td>PROPOSITION 056 - CIGARETTE TAX TO FUND HEALTH...</td>\n",
       "      <td>12</td>\n",
       "    </tr>\n",
       "    <tr>\n",
       "      <th>2</th>\n",
       "      <td>PROPOSITION 064- MARIJUANA LEGALIZATION. INITI...</td>\n",
       "      <td>11</td>\n",
       "    </tr>\n",
       "    <tr>\n",
       "      <th>3</th>\n",
       "      <td>PROPOSITION 066- DEATH PENALTY. PROCEDURES. IN...</td>\n",
       "      <td>9</td>\n",
       "    </tr>\n",
       "    <tr>\n",
       "      <th>4</th>\n",
       "      <td>PROPOSITION 055 - TAX EXTENSION TO FUND EDUCAT...</td>\n",
       "      <td>8</td>\n",
       "    </tr>\n",
       "    <tr>\n",
       "      <th>5</th>\n",
       "      <td>PROPOSITION 067- REFERENDUM TO OVERTURN BAN ON...</td>\n",
       "      <td>7</td>\n",
       "    </tr>\n",
       "    <tr>\n",
       "      <th>6</th>\n",
       "      <td>PROPOSITION 062- DEATH PENALTY. INITIATIVE STA...</td>\n",
       "      <td>7</td>\n",
       "    </tr>\n",
       "    <tr>\n",
       "      <th>7</th>\n",
       "      <td>PROPOSITION 059- SB 254 (CHAPTER 20, STATUTES ...</td>\n",
       "      <td>6</td>\n",
       "    </tr>\n",
       "    <tr>\n",
       "      <th>8</th>\n",
       "      <td>PROPOSITION 053 - REVENUE BONDS. STATEWIDE VOT...</td>\n",
       "      <td>4</td>\n",
       "    </tr>\n",
       "    <tr>\n",
       "      <th>9</th>\n",
       "      <td>PROPOSITION 054 - LEGISLATURE. LEGISLATION AND...</td>\n",
       "      <td>4</td>\n",
       "    </tr>\n",
       "    <tr>\n",
       "      <th>10</th>\n",
       "      <td>PROPOSITION 058 - SB 1174 (CHAPTER 753, STATUT...</td>\n",
       "      <td>4</td>\n",
       "    </tr>\n",
       "    <tr>\n",
       "      <th>11</th>\n",
       "      <td>PROPOSITION 063- FIREARMS. AMMUNITION SALES. I...</td>\n",
       "      <td>4</td>\n",
       "    </tr>\n",
       "    <tr>\n",
       "      <th>12</th>\n",
       "      <td>PROPOSITION 051 - SCHOOL BONDS. FUNDING FOR K-...</td>\n",
       "      <td>4</td>\n",
       "    </tr>\n",
       "    <tr>\n",
       "      <th>13</th>\n",
       "      <td>PROPOSITION 052 - STATE FEES ON HOSPITALS. FED...</td>\n",
       "      <td>3</td>\n",
       "    </tr>\n",
       "    <tr>\n",
       "      <th>14</th>\n",
       "      <td>PROPOSITION 061- STATE PRESCRIPTION DRUG PURCH...</td>\n",
       "      <td>3</td>\n",
       "    </tr>\n",
       "    <tr>\n",
       "      <th>15</th>\n",
       "      <td>PROPOSITION 060- ADULT FILMS. CONDOMS. HEALTH ...</td>\n",
       "      <td>2</td>\n",
       "    </tr>\n",
       "    <tr>\n",
       "      <th>16</th>\n",
       "      <td>PROPOSITION 065- CARRY-OUT BAGS. CHARGES. INIT...</td>\n",
       "      <td>1</td>\n",
       "    </tr>\n",
       "  </tbody>\n",
       "</table>\n",
       "</div>"
      ],
      "text/plain": [
       "                                                index  prop_name\n",
       "0   PROPOSITION 057 - CRIMINAL SENTENCES. JUVENILE...         13\n",
       "1   PROPOSITION 056 - CIGARETTE TAX TO FUND HEALTH...         12\n",
       "2   PROPOSITION 064- MARIJUANA LEGALIZATION. INITI...         11\n",
       "3   PROPOSITION 066- DEATH PENALTY. PROCEDURES. IN...          9\n",
       "4   PROPOSITION 055 - TAX EXTENSION TO FUND EDUCAT...          8\n",
       "5   PROPOSITION 067- REFERENDUM TO OVERTURN BAN ON...          7\n",
       "6   PROPOSITION 062- DEATH PENALTY. INITIATIVE STA...          7\n",
       "7   PROPOSITION 059- SB 254 (CHAPTER 20, STATUTES ...          6\n",
       "8   PROPOSITION 053 - REVENUE BONDS. STATEWIDE VOT...          4\n",
       "9   PROPOSITION 054 - LEGISLATURE. LEGISLATION AND...          4\n",
       "10  PROPOSITION 058 - SB 1174 (CHAPTER 753, STATUT...          4\n",
       "11  PROPOSITION 063- FIREARMS. AMMUNITION SALES. I...          4\n",
       "12  PROPOSITION 051 - SCHOOL BONDS. FUNDING FOR K-...          4\n",
       "13  PROPOSITION 052 - STATE FEES ON HOSPITALS. FED...          3\n",
       "14  PROPOSITION 061- STATE PRESCRIPTION DRUG PURCH...          3\n",
       "15  PROPOSITION 060- ADULT FILMS. CONDOMS. HEALTH ...          2\n",
       "16  PROPOSITION 065- CARRY-OUT BAGS. CHARGES. INIT...          1"
      ]
     },
     "execution_count": 8,
     "metadata": {},
     "output_type": "execute_result"
    }
   ],
   "source": [
    "props.prop_name.value_counts().reset_index()"
   ]
  },
  {
   "cell_type": "code",
   "execution_count": 10,
   "metadata": {},
   "outputs": [
    {
     "data": {
      "text/plain": [
       "PROPOSITION 057 - CRIMINAL SENTENCES. JUVENILE CRIMINAL PROCEEDINGS AND SENTENCING. INITIATIVE CONSTITUTIONAL AMENDMENT AND STATUTE.                           13\n",
       "PROPOSITION 056 - CIGARETTE TAX TO FUND HEALTHCARE, TOBACCO USE PREVENTION, RESEARCH, AND LAW ENFORCEMENT. INITIATIVE CONSTITUTIONAL AMENDMENT AND STATUTE.    12\n",
       "PROPOSITION 064- MARIJUANA LEGALIZATION. INITIATIVE STATUTE.                                                                                                   11\n",
       "PROPOSITION 066- DEATH PENALTY. PROCEDURES. INITIATIVE STATUTE.                                                                                                 9\n",
       "PROPOSITION 055 - TAX EXTENSION TO FUND EDUCATION AND HEALTHCARE. INITIATIVE CONSTITUTIONAL AMENDMENT.                                                          8\n",
       "PROPOSITION 067- REFERENDUM TO OVERTURN BAN ON SINGLE-USE PLASTIC BAGS.                                                                                         7\n",
       "PROPOSITION 062- DEATH PENALTY. INITIATIVE STATUTE.                                                                                                             7\n",
       "PROPOSITION 059- SB 254 (CHAPTER 20, STATUTES OF 2016), ALLEN. CAMPAIGN FINANCE: VOTER INSTRUCTION                                                              6\n",
       "PROPOSITION 053 - REVENUE BONDS. STATEWIDE VOTER APPROVAL. INITIATIVE CONSTITUTIONAL AMENDMENT.                                                                 4\n",
       "PROPOSITION 054 - LEGISLATURE. LEGISLATION AND PROCEEDINGS. INITIATIVE CONSTITUTIONAL AMENDMENT AND STATUTE.                                                    4\n",
       "PROPOSITION 058 - SB 1174 (CHAPTER 753, STATUTES OF 2014), LARA. ENGLISH LANGUAGE EDUCATION                                                                     4\n",
       "PROPOSITION 063- FIREARMS. AMMUNITION SALES. INTIATIVE STATUTE.                                                                                                 4\n",
       "PROPOSITION 051 - SCHOOL BONDS. FUNDING FOR K-12 SCHOOL AND COMMUNITY COLLEGE FACILITIES. INITIATIVE STATUTORY AMENDMENT.                                       4\n",
       "PROPOSITION 052 - STATE FEES ON HOSPITALS. FEDERAL MEDI-CAL MATCHING FUNDS. INITIATIVE STATUTORY AND CONSTITUTIONAL AMENDMENT.                                  3\n",
       "PROPOSITION 061- STATE PRESCRIPTION DRUG PURCHASES. PRICING STANDARDS. INITIATIVE STATUTE.                                                                      3\n",
       "PROPOSITION 060- ADULT FILMS. CONDOMS. HEALTH REQUIREMENTS. INITIATIVE STATUTE.                                                                                 2\n",
       "PROPOSITION 065- CARRY-OUT BAGS. CHARGES. INITIATIVE STATUTE.                                                                                                   1\n",
       "Name: prop_name, dtype: int64"
      ]
     },
     "execution_count": 10,
     "metadata": {},
     "output_type": "execute_result"
    }
   ],
   "source": [
    "props.prop_name.value_counts()"
   ]
  },
  {
   "cell_type": "code",
   "execution_count": 14,
   "metadata": {
    "collapsed": true
   },
   "outputs": [],
   "source": [
    "merged = pd.merge(props, contribs, on=\"calaccess_committee_id\")"
   ]
  },
  {
   "cell_type": "code",
   "execution_count": 21,
   "metadata": {},
   "outputs": [
    {
     "data": {
      "text/plain": [
       "PROPOSITION 062- DEATH PENALTY. INITIATIVE STATUTE.                                                                                                            34442\n",
       "PROPOSITION 066- DEATH PENALTY. PROCEDURES. INITIATIVE STATUTE.                                                                                                33828\n",
       "PROPOSITION 063- FIREARMS. AMMUNITION SALES. INTIATIVE STATUTE.                                                                                                11025\n",
       "PROPOSITION 067- REFERENDUM TO OVERTURN BAN ON SINGLE-USE PLASTIC BAGS.                                                                                         6279\n",
       "PROPOSITION 051 - SCHOOL BONDS. FUNDING FOR K-12 SCHOOL AND COMMUNITY COLLEGE FACILITIES. INITIATIVE STATUTORY AMENDMENT.                                       1538\n",
       "PROPOSITION 064- MARIJUANA LEGALIZATION. INITIATIVE STATUTE.                                                                                                     860\n",
       "PROPOSITION 061- STATE PRESCRIPTION DRUG PURCHASES. PRICING STANDARDS. INITIATIVE STATUTE.                                                                       806\n",
       "PROPOSITION 059- SB 254 (CHAPTER 20, STATUTES OF 2016), ALLEN. CAMPAIGN FINANCE: VOTER INSTRUCTION                                                               561\n",
       "PROPOSITION 057 - CRIMINAL SENTENCES. JUVENILE CRIMINAL PROCEEDINGS AND SENTENCING. INITIATIVE CONSTITUTIONAL AMENDMENT AND STATUTE.                             237\n",
       "PROPOSITION 053 - REVENUE BONDS. STATEWIDE VOTER APPROVAL. INITIATIVE CONSTITUTIONAL AMENDMENT.                                                                  192\n",
       "PROPOSITION 056 - CIGARETTE TAX TO FUND HEALTHCARE, TOBACCO USE PREVENTION, RESEARCH, AND LAW ENFORCEMENT. INITIATIVE CONSTITUTIONAL AMENDMENT AND STATUTE.      165\n",
       "PROPOSITION 060- ADULT FILMS. CONDOMS. HEALTH REQUIREMENTS. INITIATIVE STATUTE.                                                                                  115\n",
       "PROPOSITION 058 - SB 1174 (CHAPTER 753, STATUTES OF 2014), LARA. ENGLISH LANGUAGE EDUCATION                                                                       72\n",
       "PROPOSITION 055 - TAX EXTENSION TO FUND EDUCATION AND HEALTHCARE. INITIATIVE CONSTITUTIONAL AMENDMENT.                                                            70\n",
       "PROPOSITION 054 - LEGISLATURE. LEGISLATION AND PROCEEDINGS. INITIATIVE CONSTITUTIONAL AMENDMENT AND STATUTE.                                                      32\n",
       "PROPOSITION 065- CARRY-OUT BAGS. CHARGES. INITIATIVE STATUTE.                                                                                                     27\n",
       "PROPOSITION 052 - STATE FEES ON HOSPITALS. FEDERAL MEDI-CAL MATCHING FUNDS. INITIATIVE STATUTORY AND CONSTITUTIONAL AMENDMENT.                                    15\n",
       "Name: prop_name, dtype: int64"
      ]
     },
     "execution_count": 21,
     "metadata": {},
     "output_type": "execute_result"
    }
   ],
   "source": [
    "merged.prop_name.value_counts()"
   ]
  },
  {
   "cell_type": "code",
   "execution_count": 18,
   "metadata": {},
   "outputs": [
    {
     "data": {
      "text/plain": [
       "466851993.3900001"
      ]
     },
     "execution_count": 18,
     "metadata": {},
     "output_type": "execute_result"
    }
   ],
   "source": [
    "merged.amount.sum()"
   ]
  },
  {
   "cell_type": "code",
   "execution_count": 22,
   "metadata": {},
   "outputs": [
    {
     "name": "stdout",
     "output_type": "stream",
     "text": [
      "<class 'pandas.core.frame.DataFrame'>\n",
      "Int64Index: 90264 entries, 0 to 90263\n",
      "Data columns (total 20 columns):\n",
      "ocd_prop_id                     90264 non-null object\n",
      "calaccess_prop_id               90264 non-null int64\n",
      "ccdc_prop_id                    90264 non-null int64\n",
      "prop_name                       90264 non-null object\n",
      "ccdc_committee_id               90264 non-null int64\n",
      "calaccess_committee_id          90264 non-null int64\n",
      "committee_name_x                90264 non-null object\n",
      "committee_position              90264 non-null object\n",
      "committee_name_y                90264 non-null object\n",
      "calaccess_filing_id             90264 non-null int64\n",
      "date_received                   90264 non-null object\n",
      "contributor_lastname            90256 non-null object\n",
      "contributor_firstname           86685 non-null object\n",
      "contributor_city                90251 non-null object\n",
      "contributor_state               90244 non-null object\n",
      "contributor_zip                 90248 non-null object\n",
      "contributor_employer            81684 non-null object\n",
      "contributor_occupation          86545 non-null object\n",
      "contributor_is_self_employed    90264 non-null bool\n",
      "amount                          90264 non-null float64\n",
      "dtypes: bool(1), float64(1), int64(5), object(13)\n",
      "memory usage: 13.9+ MB\n"
     ]
    }
   ],
   "source": [
    "merged.info()"
   ]
  },
  {
   "cell_type": "code",
   "execution_count": 39,
   "metadata": {},
   "outputs": [],
   "source": [
    "prop64 = merged[merged.prop_name == \"PROPOSITION 064- MARIJUANA LEGALIZATION. INITIATIVE STATUTE.\"]"
   ]
  },
  {
   "cell_type": "code",
   "execution_count": 40,
   "metadata": {},
   "outputs": [
    {
     "data": {
      "text/plain": [
       "35177017.640000001"
      ]
     },
     "execution_count": 40,
     "metadata": {},
     "output_type": "execute_result"
    }
   ],
   "source": [
    "prop64.amount.sum()"
   ]
  },
  {
   "cell_type": "code",
   "execution_count": 43,
   "metadata": {},
   "outputs": [
    {
     "data": {
      "text/html": [
       "<div>\n",
       "<style>\n",
       "    .dataframe thead tr:only-child th {\n",
       "        text-align: right;\n",
       "    }\n",
       "\n",
       "    .dataframe thead th {\n",
       "        text-align: left;\n",
       "    }\n",
       "\n",
       "    .dataframe tbody tr th {\n",
       "        vertical-align: top;\n",
       "    }\n",
       "</style>\n",
       "<table border=\"1\" class=\"dataframe\">\n",
       "  <thead>\n",
       "    <tr style=\"text-align: right;\">\n",
       "      <th></th>\n",
       "      <th>prop_name</th>\n",
       "      <th>amount</th>\n",
       "    </tr>\n",
       "  </thead>\n",
       "  <tbody>\n",
       "    <tr>\n",
       "      <th>10</th>\n",
       "      <td>PROPOSITION 061- STATE PRESCRIPTION DRUG PURCH...</td>\n",
       "      <td>1.273146e+08</td>\n",
       "    </tr>\n",
       "    <tr>\n",
       "      <th>5</th>\n",
       "      <td>PROPOSITION 056 - CIGARETTE TAX TO FUND HEALTH...</td>\n",
       "      <td>8.836929e+07</td>\n",
       "    </tr>\n",
       "    <tr>\n",
       "      <th>4</th>\n",
       "      <td>PROPOSITION 055 - TAX EXTENSION TO FUND EDUCAT...</td>\n",
       "      <td>5.665873e+07</td>\n",
       "    </tr>\n",
       "    <tr>\n",
       "      <th>13</th>\n",
       "      <td>PROPOSITION 064- MARIJUANA LEGALIZATION. INITI...</td>\n",
       "      <td>3.517702e+07</td>\n",
       "    </tr>\n",
       "    <tr>\n",
       "      <th>15</th>\n",
       "      <td>PROPOSITION 066- DEATH PENALTY. PROCEDURES. IN...</td>\n",
       "      <td>3.429124e+07</td>\n",
       "    </tr>\n",
       "    <tr>\n",
       "      <th>11</th>\n",
       "      <td>PROPOSITION 062- DEATH PENALTY. INITIATIVE STA...</td>\n",
       "      <td>3.283668e+07</td>\n",
       "    </tr>\n",
       "    <tr>\n",
       "      <th>2</th>\n",
       "      <td>PROPOSITION 053 - REVENUE BONDS. STATEWIDE VOT...</td>\n",
       "      <td>2.234050e+07</td>\n",
       "    </tr>\n",
       "    <tr>\n",
       "      <th>6</th>\n",
       "      <td>PROPOSITION 057 - CRIMINAL SENTENCES. JUVENILE...</td>\n",
       "      <td>2.009737e+07</td>\n",
       "    </tr>\n",
       "    <tr>\n",
       "      <th>1</th>\n",
       "      <td>PROPOSITION 052 - STATE FEES ON HOSPITALS. FED...</td>\n",
       "      <td>1.628314e+07</td>\n",
       "    </tr>\n",
       "    <tr>\n",
       "      <th>0</th>\n",
       "      <td>PROPOSITION 051 - SCHOOL BONDS. FUNDING FOR K-...</td>\n",
       "      <td>1.298794e+07</td>\n",
       "    </tr>\n",
       "    <tr>\n",
       "      <th>9</th>\n",
       "      <td>PROPOSITION 060- ADULT FILMS. CONDOMS. HEALTH ...</td>\n",
       "      <td>5.032221e+06</td>\n",
       "    </tr>\n",
       "    <tr>\n",
       "      <th>16</th>\n",
       "      <td>PROPOSITION 067- REFERENDUM TO OVERTURN BAN ON...</td>\n",
       "      <td>4.470574e+06</td>\n",
       "    </tr>\n",
       "    <tr>\n",
       "      <th>7</th>\n",
       "      <td>PROPOSITION 058 - SB 1174 (CHAPTER 753, STATUT...</td>\n",
       "      <td>4.409450e+06</td>\n",
       "    </tr>\n",
       "    <tr>\n",
       "      <th>12</th>\n",
       "      <td>PROPOSITION 063- FIREARMS. AMMUNITION SALES. I...</td>\n",
       "      <td>3.491137e+06</td>\n",
       "    </tr>\n",
       "    <tr>\n",
       "      <th>14</th>\n",
       "      <td>PROPOSITION 065- CARRY-OUT BAGS. CHARGES. INIT...</td>\n",
       "      <td>2.681413e+06</td>\n",
       "    </tr>\n",
       "    <tr>\n",
       "      <th>8</th>\n",
       "      <td>PROPOSITION 059- SB 254 (CHAPTER 20, STATUTES ...</td>\n",
       "      <td>2.585466e+05</td>\n",
       "    </tr>\n",
       "    <tr>\n",
       "      <th>3</th>\n",
       "      <td>PROPOSITION 054 - LEGISLATURE. LEGISLATION AND...</td>\n",
       "      <td>1.521790e+05</td>\n",
       "    </tr>\n",
       "  </tbody>\n",
       "</table>\n",
       "</div>"
      ],
      "text/plain": [
       "                                            prop_name        amount\n",
       "10  PROPOSITION 061- STATE PRESCRIPTION DRUG PURCH...  1.273146e+08\n",
       "5   PROPOSITION 056 - CIGARETTE TAX TO FUND HEALTH...  8.836929e+07\n",
       "4   PROPOSITION 055 - TAX EXTENSION TO FUND EDUCAT...  5.665873e+07\n",
       "13  PROPOSITION 064- MARIJUANA LEGALIZATION. INITI...  3.517702e+07\n",
       "15  PROPOSITION 066- DEATH PENALTY. PROCEDURES. IN...  3.429124e+07\n",
       "11  PROPOSITION 062- DEATH PENALTY. INITIATIVE STA...  3.283668e+07\n",
       "2   PROPOSITION 053 - REVENUE BONDS. STATEWIDE VOT...  2.234050e+07\n",
       "6   PROPOSITION 057 - CRIMINAL SENTENCES. JUVENILE...  2.009737e+07\n",
       "1   PROPOSITION 052 - STATE FEES ON HOSPITALS. FED...  1.628314e+07\n",
       "0   PROPOSITION 051 - SCHOOL BONDS. FUNDING FOR K-...  1.298794e+07\n",
       "9   PROPOSITION 060- ADULT FILMS. CONDOMS. HEALTH ...  5.032221e+06\n",
       "16  PROPOSITION 067- REFERENDUM TO OVERTURN BAN ON...  4.470574e+06\n",
       "7   PROPOSITION 058 - SB 1174 (CHAPTER 753, STATUT...  4.409450e+06\n",
       "12  PROPOSITION 063- FIREARMS. AMMUNITION SALES. I...  3.491137e+06\n",
       "14  PROPOSITION 065- CARRY-OUT BAGS. CHARGES. INIT...  2.681413e+06\n",
       "8   PROPOSITION 059- SB 254 (CHAPTER 20, STATUTES ...  2.585466e+05\n",
       "3   PROPOSITION 054 - LEGISLATURE. LEGISLATION AND...  1.521790e+05"
      ]
     },
     "execution_count": 43,
     "metadata": {},
     "output_type": "execute_result"
    }
   ],
   "source": [
    "merged.groupby(\"prop_name\").amount.sum().reset_index().sort_values(\"amount\", ascending=False)"
   ]
  },
  {
   "cell_type": "code",
   "execution_count": null,
   "metadata": {
    "collapsed": true
   },
   "outputs": [],
   "source": []
  }
 ],
 "metadata": {
  "kernelspec": {
   "display_name": "Python 2",
   "language": "python",
   "name": "python2"
  },
  "language_info": {
   "codemirror_mode": {
    "name": "ipython",
    "version": 2
   },
   "file_extension": ".py",
   "mimetype": "text/x-python",
   "name": "python",
   "nbconvert_exporter": "python",
   "pygments_lexer": "ipython2",
   "version": "2.7.10"
  }
 },
 "nbformat": 4,
 "nbformat_minor": 2
}
